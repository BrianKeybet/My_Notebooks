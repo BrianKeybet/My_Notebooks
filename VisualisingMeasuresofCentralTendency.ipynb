{
 "cells": [
  {
   "cell_type": "code",
   "execution_count": 17,
   "id": "f7b51fba",
   "metadata": {},
   "outputs": [],
   "source": [
    "import pandas as pd\n",
    "import matplotlib.pyplot as plt"
   ]
  },
  {
   "cell_type": "code",
   "execution_count": 2,
   "id": "b5462bb6",
   "metadata": {},
   "outputs": [
    {
     "name": "stdout",
     "output_type": "stream",
     "text": [
      "    studyhours  marks\n",
      "0            9     39\n",
      "1           15     56\n",
      "2           25     93\n",
      "3           14     61\n",
      "4           10     50\n",
      "5           18     75\n",
      "6            0     32\n",
      "7           16     85\n",
      "8            5     42\n",
      "9           19     70\n",
      "10          16     66\n",
      "11          20     80\n"
     ]
    }
   ],
   "source": [
    "df = pd.read_excel (r'C:\\Users\\support.user2\\Desktop\\KnowledgeE1.xlsx')\n",
    "print (df)"
   ]
  },
  {
   "cell_type": "code",
   "execution_count": 6,
   "id": "c36cf53d",
   "metadata": {},
   "outputs": [
    {
     "name": "stdout",
     "output_type": "stream",
     "text": [
      "   studyhours  marks\n",
      "0           9     39\n",
      "1          15     56\n",
      "2          25     93\n",
      "3          14     61\n",
      "4          10     50\n"
     ]
    }
   ],
   "source": [
    "first5 = df.head(5)\n",
    "print(first5)"
   ]
  },
  {
   "cell_type": "code",
   "execution_count": 7,
   "id": "bc0e8b60",
   "metadata": {},
   "outputs": [
    {
     "name": "stdout",
     "output_type": "stream",
     "text": [
      "0      9\n",
      "1     15\n",
      "2     25\n",
      "3     14\n",
      "4     10\n",
      "5     18\n",
      "6      0\n",
      "7     16\n",
      "8      5\n",
      "9     19\n",
      "10    16\n",
      "11    20\n",
      "Name: studyhours, dtype: int64\n"
     ]
    }
   ],
   "source": [
    "hours = df['studyhours']\n",
    "print (hours)"
   ]
  },
  {
   "cell_type": "code",
   "execution_count": 8,
   "id": "227ea292",
   "metadata": {},
   "outputs": [
    {
     "name": "stdout",
     "output_type": "stream",
     "text": [
      "0     39\n",
      "1     56\n",
      "2     93\n",
      "3     61\n",
      "4     50\n",
      "5     75\n",
      "6     32\n",
      "7     85\n",
      "8     42\n",
      "9     70\n",
      "10    66\n",
      "11    80\n",
      "Name: marks, dtype: int64\n"
     ]
    }
   ],
   "source": [
    "marks = df['marks']\n",
    "print (marks)"
   ]
  },
  {
   "cell_type": "code",
   "execution_count": 9,
   "id": "a6e99abb",
   "metadata": {},
   "outputs": [
    {
     "name": "stdout",
     "output_type": "stream",
     "text": [
      "Instances of hours: 12\n",
      "Instances of marks: 12\n"
     ]
    }
   ],
   "source": [
    "No_of_hours = hours.count()\n",
    "No_of_marks = marks.count()\n",
    "print(\"Instances of hours:\", No_of_hours)\n",
    "print(\"Instances of marks:\", No_of_marks)"
   ]
  },
  {
   "cell_type": "code",
   "execution_count": 11,
   "id": "7493bb89",
   "metadata": {},
   "outputs": [
    {
     "name": "stdout",
     "output_type": "stream",
     "text": [
      "Sum of studied hours: 167\n",
      "Sum of marks obtained: 749\n"
     ]
    }
   ],
   "source": [
    "sum_of_hours = hours.sum()\n",
    "sum_of_marks = marks.sum()\n",
    "print(\"Sum of studied hours:\", sum_of_hours)\n",
    "print(\"Sum of marks obtained:\", sum_of_marks)"
   ]
  },
  {
   "cell_type": "code",
   "execution_count": 12,
   "id": "2625e70c",
   "metadata": {},
   "outputs": [
    {
     "name": "stdout",
     "output_type": "stream",
     "text": [
      "Average hours: 13.9\n",
      "Average marks: 62.4\n"
     ]
    }
   ],
   "source": [
    "Average_hours = round(hours.mean(), 1)\n",
    "Average_marks = round(marks.mean(), 1)\n",
    "print(\"Average hours:\", Average_hours)\n",
    "print(\"Average marks:\", Average_marks)"
   ]
  },
  {
   "cell_type": "code",
   "execution_count": 14,
   "id": "10646eb4",
   "metadata": {},
   "outputs": [
    {
     "name": "stdout",
     "output_type": "stream",
     "text": [
      "Median of hours: 15.5\n",
      "Median of marks: 63.5\n"
     ]
    }
   ],
   "source": [
    "Median_hours = hours.median()\n",
    "Median_marks = marks.median()\n",
    "print(\"Median of hours:\", Median_hours)\n",
    "print(\"Median of marks:\", Median_marks)"
   ]
  },
  {
   "cell_type": "code",
   "execution_count": 16,
   "id": "ecbf4eab",
   "metadata": {},
   "outputs": [
    {
     "name": "stdout",
     "output_type": "stream",
     "text": [
      "Mode of hours: 16\n",
      "Mode of marks: 32\n"
     ]
    }
   ],
   "source": [
    "Mode_hours = hours.mode().iloc[0]\n",
    "Mode_marks = marks.mode().iloc[0]\n",
    "print(\"Mode of hours:\", Mode_hours)\n",
    "print(\"Mode of marks:\", Mode_marks)"
   ]
  },
  {
   "cell_type": "code",
   "execution_count": 22,
   "id": "566f7b64",
   "metadata": {},
   "outputs": [
    {
     "data": {
      "image/png": "[encoded data removed]",
      "text/plain": [
       "<Figure size 432x288 with 1 Axes>"
      ]
     },
     "metadata": {
      "needs_background": "light"
     },
     "output_type": "display_data"
    }
   ],
   "source": [
    "#Visualising Mode\n",
    "Barchart = df.plot(kind='bar')\n",
    "plt.show()"
   ]
  },
  {
   "cell_type": "code",
   "execution_count": 23,
   "id": "0b972db9",
   "metadata": {},
   "outputs": [
    {
     "data": {
      "text/plain": [
       "<function matplotlib.pyplot.show(close=None, block=None)>"
      ]
     },
     "execution_count": 23,
     "metadata": {},
     "output_type": "execute_result"
    },
    {
     "data": {
      "text/plain": [
       "<Figure size 432x288 with 0 Axes>"
      ]
     },
     "metadata": {},
     "output_type": "display_data"
    },
    {
     "data": {
      "image/png": "[encoded data removed]",
      "text/plain": [
       "<Figure size 432x288 with 1 Axes>"
      ]
     },
     "metadata": {
      "needs_background": "light"
     },
     "output_type": "display_data"
    }
   ],
   "source": [
    "#Visualise measures of dispersion using boxplot\n",
    "fig = plt.figure()\n",
    "box_plt = df.plot(kind='box', showmeans='true')\n",
    "plt.show"
   ]
  },
  {
   "cell_type": "code",
   "execution_count": 24,
   "id": "c4b6e7cc",
   "metadata": {},
   "outputs": [
    {
     "data": {
      "image/png": "[encoded data removed]",
      "text/plain": [
       "<Figure size 432x288 with 1 Axes>"
      ]
     },
     "metadata": {
      "needs_background": "light"
     },
     "output_type": "display_data"
    }
   ],
   "source": [
    "#Visualise Mean and Median using Histogram\n",
    "hours.plot(kind = 'hist', figsize = (6,4), linewidth = 2, color = 'yellow', edgecolor = 'gray')\n",
    "plt.xlabel(\"Hours Distribution\", labelpad = 15)\n",
    "plt.ylabel(\"frequency\", labelpad = 15)\n",
    "plt.title(\"Distribution of study hours\", y = 1.012, fontsize = 22)\n",
    "measurements = [Mode_hours, Median_hours, Average_hours]\n",
    "names = [\"mode\", \"median\", \"mean\"]\n",
    "colors = ['green', 'blue', 'red']\n",
    "for measurement, name, color in zip(measurements, names, colors):\n",
    "    plt.axvline(x=measurement, linestyle = '--', linewidth = 2.5, label = '{0} at {1}'.format(name, measurement), c=color)\n",
    "\n",
    "plt.legend(); "
   ]
  },
  {
   "cell_type": "code",
   "execution_count": null,
   "id": "89753354",
   "metadata": {},
   "outputs": [],
   "source": []
  }
 ],
 "metadata": {
  "kernelspec": {
   "display_name": "Python 3 (ipykernel)",
   "language": "python",
   "name": "python3"
  },
  "language_info": {
   "codemirror_mode": {
    "name": "ipython",
    "version": 3
   },
   "file_extension": ".py",
   "mimetype": "text/x-python",
   "name": "python",
   "nbconvert_exporter": "python",
   "pygments_lexer": "ipython3",
   "version": "3.9.12"
  }
 },
 "nbformat": 4,
 "nbformat_minor": 5
}
