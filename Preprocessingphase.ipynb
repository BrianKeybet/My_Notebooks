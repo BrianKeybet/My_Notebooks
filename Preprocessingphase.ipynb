{
 "cells": [
  {
   "cell_type": "code",
   "execution_count": 12,
   "id": "b1bb8f48",
   "metadata": {},
   "outputs": [],
   "source": [
    "#Select necessary libraries\n",
    "import pandas as pd\n",
    "import numpy as np\n",
    "from sklearn import preprocessing\n",
    "from sklearn.preprocessing import Normalizer\n",
    "from sklearn.preprocessing import Binarizer\n",
    "from sklearn.decomposition import PCA"
   ]
  },
  {
   "cell_type": "code",
   "execution_count": 13,
   "id": "720ac911",
   "metadata": {},
   "outputs": [
    {
     "name": "stdout",
     "output_type": "stream",
     "text": [
      "Selected Data Source1:\n",
      "    Honours University Letter Experience Hired\n",
      "0    First        UON   Good        Yes     Y\n",
      "1    First        UON   Good         No     Y\n",
      "2   Second        UON   Good         No     Y\n",
      "3   Second        UON   Good        Yes     Y\n",
      "4   Second        UON   Good         No     Y\n",
      "5   Second        MOI   Good         No     Y\n",
      "6   Second         KU   Good         No     Y\n",
      "7   Second         KU   Good         No     N\n",
      "8   Second        UON   Good         No     N\n",
      "9     Pass        MOI    Bad        Yes     N\n",
      "10    Pass         KU   Good         No     N\n",
      "11    Pass         KU   Good         No     N\n",
      "12   First       KCAU   Good        Yes     Y\n",
      "13  Second       KCAU   Good        Yes     Y\n",
      "14  Second       KCAU    Bad        Yes     Y\n"
     ]
    }
   ],
   "source": [
    "#Data source selection\n",
    "path='C:/pydatafiles/employ.csv'\n",
    "attributes=['Honours','University','Letter','Experience','Hired']\n",
    "Data=pd.read_csv(path, names=attributes)\n",
    "print(\"Selected Data Source1:\\n\",Data)"
   ]
  },
  {
   "cell_type": "code",
   "execution_count": 14,
   "id": "6d12f4c6",
   "metadata": {},
   "outputs": [
    {
     "name": "stdout",
     "output_type": "stream",
     "text": [
      "The first five records\n",
      "   Honours University Letter Experience Hired\n",
      "0   First        UON   Good        Yes     Y\n",
      "1   First        UON   Good         No     Y\n",
      "2  Second        UON   Good         No     Y\n",
      "3  Second        UON   Good        Yes     Y\n",
      "4  Second        UON   Good         No     Y\n",
      "The first seven records\n",
      "   Honours University Letter Experience Hired\n",
      "0   First        UON   Good        Yes     Y\n",
      "1   First        UON   Good         No     Y\n",
      "2  Second        UON   Good         No     Y\n",
      "3  Second        UON   Good        Yes     Y\n",
      "4  Second        UON   Good         No     Y\n",
      "5  Second        MOI   Good         No     Y\n",
      "6  Second         KU   Good         No     Y\n",
      "The last five records\n",
      "    Honours University Letter Experience Hired\n",
      "10    Pass         KU   Good         No     N\n",
      "11    Pass         KU   Good         No     N\n",
      "12   First       KCAU   Good        Yes     Y\n",
      "13  Second       KCAU   Good        Yes     Y\n",
      "14  Second       KCAU    Bad        Yes     Y\n",
      "The last three records\n",
      "    Honours University Letter Experience Hired\n",
      "12   First       KCAU   Good        Yes     Y\n",
      "13  Second       KCAU   Good        Yes     Y\n",
      "14  Second       KCAU    Bad        Yes     Y\n",
      "A random sample of 5 records\n",
      "    Honours University Letter Experience Hired\n",
      "10    Pass         KU   Good         No     N\n",
      "3   Second        UON   Good        Yes     Y\n",
      "9     Pass        MOI    Bad        Yes     N\n",
      "5   Second        MOI   Good         No     Y\n",
      "6   Second         KU   Good         No     Y\n"
     ]
    }
   ],
   "source": [
    "#Data Selection(Sampling)\n",
    "\n",
    "Sample1=Data.head()\n",
    "print(\"The first five records\\n\",Sample1)\n",
    "\n",
    "Sample2=Data.head(7)\n",
    "print(\"The first seven records\\n\",Sample2)\n",
    "\n",
    "Sample3=Data.tail()\n",
    "print(\"The last five records\\n\",Sample3)\n",
    "\n",
    "Sample4=Data.tail(3)\n",
    "print(\"The last three records\\n\",Sample4)\n",
    "\n",
    "Sample5=Data.sample(5)\n",
    "print(\"A random sample of 5 records\\n\",Sample5)\n"
   ]
  },
  {
   "cell_type": "code",
   "execution_count": null,
   "id": "33c269d4",
   "metadata": {},
   "outputs": [],
   "source": [
    "train=data[:split,:]\n",
    "\n",
    "test=data[split:,:]"
   ]
  },
  {
   "cell_type": "code",
   "execution_count": null,
   "id": "f8d1cde8",
   "metadata": {},
   "outputs": [],
   "source": [
    "#"
   ]
  }
 ],
 "metadata": {
  "kernelspec": {
   "display_name": "Python 3",
   "language": "python",
   "name": "python3"
  },
  "language_info": {
   "codemirror_mode": {
    "name": "ipython",
    "version": 3
   },
   "file_extension": ".py",
   "mimetype": "text/x-python",
   "name": "python",
   "nbconvert_exporter": "python",
   "pygments_lexer": "ipython3",
   "version": "3.8.8"
  }
 },
 "nbformat": 4,
 "nbformat_minor": 5
}
