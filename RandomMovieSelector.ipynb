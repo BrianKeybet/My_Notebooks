{
 "cells": [
  {
   "cell_type": "markdown",
   "id": "62e6ad68",
   "metadata": {},
   "source": [
    "## This code randomly selects 1 of top 250 movies from a random year on imdb"
   ]
  },
  {
   "cell_type": "code",
   "execution_count": null,
   "id": "75523aab",
   "metadata": {},
   "outputs": [
    {
     "name": "stdout",
     "output_type": "stream",
     "text": [
      "M - Eine Stadt sucht einen Mörder (1931),Rating: 8.3, Starring: Fritz Lang (dir.), Peter Lorre, Ellen Widmann\n",
      "Do you want another movie (y/[n])?y\n",
      "Aliens (1986),Rating: 8.3, Starring: James Cameron (dir.), Sigourney Weaver, Michael Biehn\n",
      "Do you want another movie (y/[n])?y\n",
      "Scarface (1983),Rating: 8.2, Starring: Brian De Palma (dir.), Al Pacino, Michelle Pfeiffer\n",
      "Do you want another movie (y/[n])?y\n",
      "Casablanca (1942),Rating: 8.4, Starring: Michael Curtiz (dir.), Humphrey Bogart, Ingrid Bergman\n",
      "Do you want another movie (y/[n])?y\n",
      "Memento (2000),Rating: 8.4, Starring: Christopher Nolan (dir.), Guy Pearce, Carrie-Anne Moss\n",
      "Do you want another movie (y/[n])?y\n",
      "Le fabuleux destin d'Amélie Poulain (2001),Rating: 8.2, Starring: Jean-Pierre Jeunet (dir.), Audrey Tautou, Mathieu Kassovitz\n"
     ]
    }
   ],
   "source": [
    "import random\n",
    "import requests\n",
    "from bs4 import BeautifulSoup\n",
    "\n",
    "URL = 'https://www.imdb.com/chart/top'\n",
    "\n",
    "def main():\n",
    "    response = requests.get(URL)\n",
    "    soup = BeautifulSoup(response.text, 'html.parser')\n",
    "    \n",
    "    movietags = soup.select('td.titleColumn')\n",
    "    inner_movietags = soup.select('td.titleColumn a')\n",
    "    ratingtags = soup.select('td.posterColumn span[name=ir]')\n",
    "    \n",
    "    def get_year(movie_tag):\n",
    "        moviesplit =movie_tag.text.split()\n",
    "        year=moviesplit[-1]\n",
    "        return year\n",
    "    \n",
    "    years = [get_year(tag) for tag in movietags]\n",
    "    actors = [tag['title'] for tag in inner_movietags]\n",
    "    titles =[tag.text for tag in inner_movietags]\n",
    "    ratings=[float(tag['data-value']) for tag in ratingtags]\n",
    "    \n",
    "    while(True):\n",
    "        idx=random.randrange(0, len(titles))\n",
    "        \n",
    "        print(f'{titles[idx]} {years[idx]},', end='')\n",
    "        print(f'Rating: {ratings[idx]:.1f}, Starring: {actors[idx]}')\n",
    "        \n",
    "        user_input=input('Do you want another movie (y/[n])?')\n",
    "        \n",
    "        if user_input != 'y':\n",
    "            break\n",
    "\n",
    "if __name__ == '__main__':\n",
    "    main()"
   ]
  },
  {
   "cell_type": "code",
   "execution_count": null,
   "id": "ccba20d4",
   "metadata": {},
   "outputs": [],
   "source": []
  }
 ],
 "metadata": {
  "kernelspec": {
   "display_name": "Python 3",
   "language": "python",
   "name": "python3"
  },
  "language_info": {
   "codemirror_mode": {
    "name": "ipython",
    "version": 3
   },
   "file_extension": ".py",
   "mimetype": "text/x-python",
   "name": "python",
   "nbconvert_exporter": "python",
   "pygments_lexer": "ipython3",
   "version": "3.8.8"
  }
 },
 "nbformat": 4,
 "nbformat_minor": 5
}
